{
 "cells": [
  {
   "cell_type": "code",
   "execution_count": 1,
   "id": "6231f1ba",
   "metadata": {},
   "outputs": [
    {
     "name": "stdout",
     "output_type": "stream",
     "text": [
      "🧾 Simulated CRF Entries:\n",
      "  Patient_ID  Visit_Day  RA_Severity_Score Symptom_Notes  Drug_Dosage_mg  \\\n",
      "0      RA001          0                  6      Improved              30   \n",
      "1      RA001         30                  7        Stable              20   \n",
      "2      RA001         60                  8      Improved              10   \n",
      "3      RA002          0                  4        Stable              20   \n",
      "4      RA002         30                  5      Improved              10   \n",
      "\n",
      "  Consent_Status  \n",
      "0            Yes  \n",
      "1            Yes  \n",
      "2            Yes  \n",
      "3            Yes  \n",
      "4            Yes  \n"
     ]
    }
   ],
   "source": [
    "import pandas as pd\n",
    "import numpy as np\n",
    "\n",
    "# Load registry\n",
    "df = pd.read_csv('../data/ra_registry.csv')\n",
    "\n",
    "# Simulate 3 visits per patient\n",
    "visit_days = [0, 30, 60]  # Day 0, Day 30, Day 60\n",
    "\n",
    "# Create CRF-like structure\n",
    "crf_data = []\n",
    "\n",
    "for _, row in df.iterrows():\n",
    "    for day in visit_days:\n",
    "        crf_entry = {\n",
    "            'Patient_ID': row['Patient_ID'],\n",
    "            'Visit_Day': day,\n",
    "            'RA_Severity_Score': np.clip(row['RA_Severity_Score'] + np.random.randint(-1, 2), 0, 10),\n",
    "            'Symptom_Notes': np.random.choice(['Stable', 'Improved', 'Worsened']),\n",
    "            'Drug_Dosage_mg': np.random.choice([10, 20, 30]),\n",
    "            'Consent_Status': row['Consent_Status']\n",
    "        }\n",
    "        crf_data.append(crf_entry)\n",
    "\n",
    "crf_df = pd.DataFrame(crf_data)\n",
    "\n",
    "# Preview\n",
    "print(\"🧾 Simulated CRF Entries:\")\n",
    "print(crf_df.head())\n",
    "\n",
    "# Save to CSV (optional)\n",
    "crf_df.to_csv('../data/crf_simulated.csv', index=False)\n"
   ]
  },
  {
   "cell_type": "markdown",
   "id": "1deee9be",
   "metadata": {},
   "source": [
    "**Ethics Note:**  \n",
    "This CRF simulation is based on mock registry data and does not represent real patient records. Visit logic and symptom tracking are randomized for educational purposes. Consent status is retained to reflect GCP-compliant trial structure."
   ]
  }
 ],
 "metadata": {
  "kernelspec": {
   "display_name": "base",
   "language": "python",
   "name": "python3"
  },
  "language_info": {
   "codemirror_mode": {
    "name": "ipython",
    "version": 3
   },
   "file_extension": ".py",
   "mimetype": "text/x-python",
   "name": "python",
   "nbconvert_exporter": "python",
   "pygments_lexer": "ipython3",
   "version": "3.13.5"
  }
 },
 "nbformat": 4,
 "nbformat_minor": 5
}
