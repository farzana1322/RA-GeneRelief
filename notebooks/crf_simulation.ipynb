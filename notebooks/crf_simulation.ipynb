{
 "cells": [
  {
   "cell_type": "code",
   "execution_count": 5,
   "id": "6231f1ba",
   "metadata": {},
   "outputs": [
    {
     "name": "stdout",
     "output_type": "stream",
     "text": [
      "✅ Simulated CRF entries: (300, 6)\n",
      "  Patient_ID  Visit_Day  RA_Severity_Score Symptom_Notes  Drug_Dosage_mg  \\\n",
      "0      RA000          0                  7        Stable              20   \n",
      "1      RA000         30                  8        Stable              30   \n",
      "2      RA000         60                  5        Stable              20   \n",
      "3      RA001          0                  7      Worsened              30   \n",
      "4      RA001         30                  6        Stable              10   \n",
      "\n",
      "  Consent_Status  \n",
      "0            Yes  \n",
      "1            Yes  \n",
      "2            Yes  \n",
      "3            Yes  \n",
      "4            Yes  \n"
     ]
    }
   ],
   "source": [
    "import pandas as pd\n",
    "import numpy as np\n",
    "\n",
    "# Load registry\n",
    "df = pd.read_csv('../data/ra_registry.csv')\n",
    "\n",
    "# Define visit days\n",
    "visit_days = [0, 30, 60]\n",
    "\n",
    "# Initialize CRF data list\n",
    "crf_data = []\n",
    "\n",
    "# Simulate 100 patients with 3 visits each\n",
    "for i in range(100):\n",
    "    row = df.sample(1).iloc[0]  # randomly pick a patient from registry\n",
    "    for day in visit_days:\n",
    "        crf_entry = {\n",
    "            'Patient_ID': f\"RA{i:03d}\",  # unique patient ID like RA001, RA002...\n",
    "            'Visit_Day': day,\n",
    "            'RA_Severity_Score': np.clip(row['RA_Severity_Score'] + np.random.randint(-2, 3), 0, 10),\n",
    "            'Symptom_Notes': np.random.choice(['Stable', 'Improved', 'Worsened']),\n",
    "            'Drug_Dosage_mg': np.random.choice([10, 20, 30], p=[0.33, 0.33, 0.34]),\n",
    "            'Consent_Status': row['Consent_Status']\n",
    "        }\n",
    "        crf_data.append(crf_entry)\n",
    "\n",
    "# Convert to DataFrame\n",
    "crf_df = pd.DataFrame(crf_data)\n",
    "\n",
    "# Save to CSV\n",
    "crf_df.to_csv('../data/crf_simulated.csv', index=False)\n",
    "\n",
    "# Preview\n",
    "print(\"✅ Simulated CRF entries:\", crf_df.shape)\n",
    "print(crf_df.head())\n"
   ]
  },
  {
   "cell_type": "markdown",
   "id": "febea28a",
   "metadata": {},
   "source": [
    "**Ethics Note:**  \n",
    "This CRF simulation is based on mock registry data and does not represent real patient records. Visit logic, symptom tracking, and drug dosage are randomized for educational purposes. Consent status is retained to reflect GCP-compliant trial structure. All outputs are documented for reproducibility and ethical transparency.\n"
   ]
  }
 ],
 "metadata": {
  "kernelspec": {
   "display_name": "base",
   "language": "python",
   "name": "python3"
  },
  "language_info": {
   "codemirror_mode": {
    "name": "ipython",
    "version": 3
   },
   "file_extension": ".py",
   "mimetype": "text/x-python",
   "name": "python",
   "nbconvert_exporter": "python",
   "pygments_lexer": "ipython3",
   "version": "3.13.5"
  }
 },
 "nbformat": 4,
 "nbformat_minor": 5
}
