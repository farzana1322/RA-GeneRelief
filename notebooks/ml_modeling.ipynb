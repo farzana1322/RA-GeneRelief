{
 "cells": [
  {
   "cell_type": "code",
   "execution_count": 2,
   "id": "8e35cf75",
   "metadata": {},
   "outputs": [
    {
     "name": "stdout",
     "output_type": "stream",
     "text": [
      "📊 Classification Report:\n",
      "              precision    recall  f1-score   support\n",
      "\n",
      "          10       0.33      0.29      0.31        21\n",
      "          20       0.45      0.40      0.43        25\n",
      "          30       0.10      0.14      0.12        14\n",
      "\n",
      "    accuracy                           0.30        60\n",
      "   macro avg       0.30      0.28      0.28        60\n",
      "weighted avg       0.33      0.30      0.31        60\n",
      "\n"
     ]
    }
   ],
   "source": [
    "import pandas as pd\n",
    "from sklearn.model_selection import train_test_split\n",
    "from sklearn.ensemble import RandomForestClassifier\n",
    "from sklearn.metrics import classification_report\n",
    "\n",
    "# Load CRF data\n",
    "df = pd.read_csv('../data/crf_simulated.csv')\n",
    "\n",
    "# Encode categorical features\n",
    "df_encoded = pd.get_dummies(df, columns=['Symptom_Notes', 'Consent_Status'])\n",
    "\n",
    "# Define target and features\n",
    "X = df_encoded.drop(columns=['Patient_ID', 'Drug_Dosage_mg'])  # or keep dosage if modeling response\n",
    "y = df['Drug_Dosage_mg']  # You can switch to another target like flare-up risk\n",
    "\n",
    "# Split data\n",
    "X_train, X_test, y_train, y_test = train_test_split(X, y, test_size=0.2, random_state=42)\n",
    "\n",
    "# Train model\n",
    "model = RandomForestClassifier()\n",
    "model.fit(X_train, y_train)\n",
    "\n",
    "# Predict and evaluate\n",
    "y_pred = model.predict(X_test)\n",
    "print(\"📊 Classification Report:\")\n",
    "print(classification_report(y_test, y_pred))\n"
   ]
  }
 ],
 "metadata": {
  "kernelspec": {
   "display_name": "base",
   "language": "python",
   "name": "python3"
  },
  "language_info": {
   "codemirror_mode": {
    "name": "ipython",
    "version": 3
   },
   "file_extension": ".py",
   "mimetype": "text/x-python",
   "name": "python",
   "nbconvert_exporter": "python",
   "pygments_lexer": "ipython3",
   "version": "3.13.5"
  }
 },
 "nbformat": 4,
 "nbformat_minor": 5
}
