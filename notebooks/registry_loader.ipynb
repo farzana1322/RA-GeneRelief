{
 "cells": [
  {
   "cell_type": "code",
   "execution_count": 9,
   "id": "bfe37e99",
   "metadata": {},
   "outputs": [],
   "source": [
    "import os\n",
    "\n",
    "# Create the data folder if it doesn't exist\n",
    "os.makedirs(\"data\", exist_ok=True)\n"
   ]
  },
  {
   "cell_type": "code",
   "execution_count": 10,
   "id": "64731c1d",
   "metadata": {},
   "outputs": [
    {
     "name": "stdout",
     "output_type": "stream",
     "text": [
      "✅ Registry created: (100, 3)\n",
      "  Patient_ID  RA_Severity_Score Consent_Status\n",
      "0      RA000                  7      Consented\n",
      "1      RA001                  4      Withdrawn\n",
      "2      RA002                  8      Consented\n",
      "3      RA003                  5      Consented\n",
      "4      RA004                  7      Consented\n"
     ]
    }
   ],
   "source": [
    "import os\n",
    "import pandas as pd\n",
    "import numpy as np\n",
    "\n",
    "# Step 1: Create the data folder if it doesn't exist\n",
    "os.makedirs(\"data\", exist_ok=True)\n",
    "\n",
    "# Step 2: Simulate registry data\n",
    "np.random.seed(42)\n",
    "registry_data = {\n",
    "    'Patient_ID': [f\"RA{i:03d}\" for i in range(100)],\n",
    "    'RA_Severity_Score': np.random.randint(1, 10, size=100),\n",
    "    'Consent_Status': np.random.choice(['Consented', 'Withdrawn'], size=100, p=[0.85, 0.15])\n",
    "}\n",
    "\n",
    "df = pd.DataFrame(registry_data)\n",
    "\n",
    "# Step 3: Save to CSV\n",
    "df.to_csv(\"data/ra_registry.csv\", index=False)\n",
    "\n",
    "# Step 4: Preview\n",
    "print(\"✅ Registry created:\", df.shape)\n",
    "print(df.head())\n"
   ]
  }
 ],
 "metadata": {
  "kernelspec": {
   "display_name": "base",
   "language": "python",
   "name": "python3"
  },
  "language_info": {
   "codemirror_mode": {
    "name": "ipython",
    "version": 3
   },
   "file_extension": ".py",
   "mimetype": "text/x-python",
   "name": "python",
   "nbconvert_exporter": "python",
   "pygments_lexer": "ipython3",
   "version": "3.13.5"
  }
 },
 "nbformat": 4,
 "nbformat_minor": 5
}
