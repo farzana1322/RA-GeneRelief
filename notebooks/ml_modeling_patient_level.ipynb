{
 "cells": [
  {
   "cell_type": "code",
   "execution_count": 1,
   "id": "e4b6a38b",
   "metadata": {},
   "outputs": [
    {
     "name": "stdout",
     "output_type": "stream",
     "text": [
      "📊 Patient-Level Classification Report:\n",
      "              precision    recall  f1-score   support\n",
      "\n",
      "          10       0.25      0.33      0.29         3\n",
      "          20       0.36      0.57      0.44         7\n",
      "          30       0.40      0.20      0.27        10\n",
      "\n",
      "    accuracy                           0.35        20\n",
      "   macro avg       0.34      0.37      0.33        20\n",
      "weighted avg       0.36      0.35      0.33        20\n",
      "\n"
     ]
    }
   ],
   "source": [
    "import pandas as pd\n",
    "import numpy as np\n",
    "from sklearn.ensemble import RandomForestClassifier\n",
    "from sklearn.model_selection import train_test_split\n",
    "from sklearn.metrics import classification_report\n",
    "\n",
    "# Load CRF data\n",
    "df = pd.read_csv('../data/crf_simulated.csv')\n",
    "\n",
    "# Convert symptom notes to numeric volatility score\n",
    "symptom_map = {'Stable': 0, 'Improved': 1, 'Worsened': 2}\n",
    "df['Symptom_Code'] = df['Symptom_Notes'].map(symptom_map)\n",
    "\n",
    "# Group by Patient_ID to create patient-level features\n",
    "agg_df = df.groupby('Patient_ID').agg({\n",
    "    'RA_Severity_Score': ['mean', lambda x: x.iloc[-1] - x.iloc[0]],\n",
    "    'Symptom_Code': lambda x: x.nunique(),\n",
    "    'Drug_Dosage_mg': lambda x: x.iloc[-1],\n",
    "    'Consent_Status': lambda x: 1 if x.iloc[0] == 'Yes' else 0\n",
    "})\n",
    "\n",
    "# Rename columns\n",
    "agg_df.columns = ['Severity_Mean', 'Severity_Trend', 'Symptom_Volatility', 'Final_Dosage', 'Consent_Binary']\n",
    "agg_df.reset_index(inplace=True)\n",
    "\n",
    "# Define features and target\n",
    "X = agg_df.drop(columns=['Patient_ID', 'Final_Dosage'])\n",
    "y = agg_df['Final_Dosage']\n",
    "\n",
    "# Train-test split\n",
    "X_train, X_test, y_train, y_test = train_test_split(X, y, test_size=0.2, random_state=42)\n",
    "\n",
    "# Train model\n",
    "model = RandomForestClassifier()\n",
    "model.fit(X_train, y_train)\n",
    "\n",
    "# Predict and evaluate\n",
    "y_pred = model.predict(X_test)\n",
    "print(\"📊 Patient-Level Classification Report:\")\n",
    "print(classification_report(y_test, y_pred, zero_division=0))\n"
   ]
  },
  {
   "cell_type": "markdown",
   "id": "ecf3c524",
   "metadata": {},
   "source": [
    "**Modeling Notes:**  \n",
    "The patient-level model shows moderate performance, with Class 20 predicted most accurately. Class imbalance and limited features contribute to low precision and recall in other classes. Future iterations will expand feature engineering and explore alternate targets such as flare-up risk or symptom progression. All data is simulated and documented for ethics compliance.\n"
   ]
  },
  {
   "cell_type": "markdown",
   "id": "a3e13627",
   "metadata": {},
   "source": []
  }
 ],
 "metadata": {
  "kernelspec": {
   "display_name": "base",
   "language": "python",
   "name": "python3"
  },
  "language_info": {
   "codemirror_mode": {
    "name": "ipython",
    "version": 3
   },
   "file_extension": ".py",
   "mimetype": "text/x-python",
   "name": "python",
   "nbconvert_exporter": "python",
   "pygments_lexer": "ipython3",
   "version": "3.13.5"
  }
 },
 "nbformat": 4,
 "nbformat_minor": 5
}
